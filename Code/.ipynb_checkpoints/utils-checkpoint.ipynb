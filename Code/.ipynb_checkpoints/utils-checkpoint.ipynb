{
 "cells": [
  {
   "cell_type": "markdown",
   "metadata": {},
   "source": [
    "### Titanic Passenger Survival Prediction using Machine Learning\n",
    "### Preprocessing: \n",
    "To make the data suitable for machine learning, we are going to do some preprocessing, including, handling missing data, transform some columns, etc\n"
   ]
  },
  {
   "cell_type": "markdown",
   "metadata": {},
   "source": [
    "### Import libraries"
   ]
  },
  {
   "cell_type": "code",
   "execution_count": 1,
   "metadata": {},
   "outputs": [],
   "source": [
    "import pandas as pd\n",
    "import numpy as np\n",
    "import matplotlib.pyplot as plt\n",
    "import seaborn as sns\n",
    "from sklearn.preprocessing import OneHotEncoder, LabelEncoder\n",
    "from sklearn.preprocessing import StandardScaler\n",
    "from sklearn.model_selection import train_test_split\n",
    "import warnings\n",
    "warnings.simplefilter(action = 'ignore', category = FutureWarning)\n",
    "plt.rcParams['figure.figsize'] = (12.0, 5.0)"
   ]
  },
  {
   "cell_type": "code",
   "execution_count": 2,
   "metadata": {},
   "outputs": [],
   "source": [
    "df = pd.read_csv('../data/train.csv', index_col=0)"
   ]
  },
  {
   "cell_type": "code",
   "execution_count": 3,
   "metadata": {},
   "outputs": [],
   "source": [
    "def preprocess(df):\n",
    "    \n",
    "    #Handle missing data. From EDA, Age has 19.87%, Cabin has 77.10% and Embarked has 0.25% NaNs.\n",
    "    def process_missing(df):\n",
    "        \n",
    "        # Fill missing ages with the mean ages based on sex and Pclass\n",
    "        df['Age'] = df.groupby(['Sex','Pclass'])['Age'].apply(lambda x: x.fillna(x.mean()))\n",
    "        \n",
    "        # For Embarked, we will replace the 2 NaNs with the mode\n",
    "        df[\"Embarked\"] = df[\"Embarked\"].fillna('S') #mode of embarked is 'S'.\n",
    "        return df\n",
    "        \n",
    "    def unwanted_cols(df):\n",
    "        \n",
    "        # Remove columns unnecessary for EDA and Modeling: Name, Ticket, Cabin\n",
    "        df = df.drop(['Cabin','Name','Ticket'], axis=1)\n",
    "        return df\n",
    "    \n",
    "    def feature_transformation(df):\n",
    "        \n",
    "        #let combine features Sibsp and Parch since it shows whether a person was travelling alone or not\n",
    "        df['fam_size'] = df['SibSp'] + df['Parch'] + 1\n",
    "        df['fam_size'] = df['fam_size'].map(lambda x:1 if x==1 else(2 if x==2 else(3 if 3 <= x <= 4 else(4 if x>=5 else 0))))\n",
    "            \n",
    "        #let form bins or cut the distribution of age and fare into pieces\n",
    "        df['Age'] = pd.cut(df['Age'].astype(int), 5)\n",
    "        df['Fare'] = pd.qcut(df['Fare'].astype(int), 5)\n",
    "        return df\n",
    "    \n",
    "    def feature_encoding(df):\n",
    "        \n",
    "        # source:https://towardsdatascience.com/machine-learning-with-the-titanic-dataset-7f6909e58280\n",
    "        #label encode the values of non_numeric features to numbers \n",
    "        non_num_features = ['Embarked','Sex','Age','Fare']\n",
    "        for feature in non_num_features:\n",
    "            df[feature] = LabelEncoder().fit_transform(df[feature])\n",
    "         \n",
    "        #one hot encode the variables into binary codes\n",
    "        cat_features = ['Embarked','Sex','Age','Fare','Pclass','fam_size']\n",
    "        encoded_features = []\n",
    "        for feature in cat_features:\n",
    "            \n",
    "            encoded_feat = OneHotEncoder().fit_transform(df[feature].values.reshape(-1,1)).toarray()\n",
    "            n = df[feature].nunique()\n",
    "            cols = ['{}_{}'.format(feature, n) for n in range(1, n+1)]\n",
    "            encoded_df = pd.DataFrame(encoded_feat, columns=cols)\n",
    "            encoded_df.index = df.index\n",
    "            encoded_features.append(encoded_df)\n",
    "            \n",
    "        df = pd.concat([df, *encoded_features], axis=1)\n",
    "        return df\n",
    "    \n",
    "    df = process_missing(df)\n",
    "    df = unwanted_cols(df)\n",
    "    df = feature_transformation(df)\n",
    "    df = feature_encoding(df)\n",
    "    \n",
    "    return df"
   ]
  },
  {
   "cell_type": "code",
   "execution_count": null,
   "metadata": {},
   "outputs": [],
   "source": []
  },
  {
   "cell_type": "code",
   "execution_count": null,
   "metadata": {},
   "outputs": [],
   "source": []
  }
 ],
 "metadata": {
  "kernelspec": {
   "display_name": "Python 3",
   "language": "python",
   "name": "python3"
  },
  "language_info": {
   "codemirror_mode": {
    "name": "ipython",
    "version": 3
   },
   "file_extension": ".py",
   "mimetype": "text/x-python",
   "name": "python",
   "nbconvert_exporter": "python",
   "pygments_lexer": "ipython3",
   "version": "3.7.6"
  }
 },
 "nbformat": 4,
 "nbformat_minor": 4
}
